{
  "nbformat": 4,
  "nbformat_minor": 0,
  "metadata": {
    "colab": {
      "provenance": []
    },
    "kernelspec": {
      "name": "ir",
      "display_name": "R"
    },
    "language_info": {
      "name": "R"
    }
  },
  "cells": [
    {
      "cell_type": "markdown",
      "source": [
        "# Projekt zaliczeniowy - Badania Internetowe 2022\n",
        "\n",
        "### *Michał Pawlewski & Wojciech Kabatc*\n",
        "\n",
        "## Cel badania\n",
        "\n",
        "Celem naszego badania jest porównanie trzech estymatorów na podstawie oszacowania średnich, obciążeń, wariancji oraz MSE, czyli różnicy między estymatorem a wartością estymowaną.\n",
        "\n",
        "W badaniu zastosowano następujące metody:\n",
        "\n",
        "\n",
        "\n",
        "*   Metodę naiwną - obliczenie średniej metodą naiwną.\n",
        "\n",
        "*   Kalibrację - metoda wymagająca znajomości wartości X\n",
        "globalnych / średnich z populacji. Pozwala zastosować zmienne jakościowe i ilościowe.\n",
        "\n",
        "*   Post-stratyfikację - metoda, która jest szczególnym przypadkiem kalibracji. Również wymaga znajomości wartości globalnych / średnich z populacji.\n",
        "\n",
        "## Opis symulacji\n",
        "\n",
        "Dane na podstawie, których przeprowadzono badanie zostały pobrane z portalu kaggle.com i zawierają informacje na temat efektywności nauki studentów. Do obliczeń wzięto pod uwagę 8 zmiennych:\n",
        "\n",
        "* płeć - mężczyźni lub kobiety\n",
        "* miejsce zamieszkania - zmienna, która przyjmuje wartości wieś (R - rural) lub miasto (U - urban)\n",
        "* wykształcenie ojca - zmienna wyrażona w postaci rangi od 1 do 5 oznaczająca poziom wykształcenia, im wyższa ranga tym lepsze wykształcenie\n",
        "*dalc - dzienne spożycie alkoholu wyrażone w postaci rangi od 1 do 5, im wyższa ranga tym osoba spożywa więcej alkoholu dziennie\n",
        "*czas poświęcany na naukę - zmienna wyrażona w postaci rangi od 1 do 4, im wyższa ranga tym student poświęca więcej czasu na naukę\n",
        "*czas podróżowania - zmienna wyrażona w postaci rangi od 1 do 4, im wyższa ranga tym student poświęca więcej czasu na podróże\n",
        "*czas wolny - zmienna wyrażona w postaci rangi od 1 do 5, im wyższa ranga tym student poświęca więcej czasu na czynności wykonywane w wolnym czasie\n",
        "*nieobecności - ogólna liczba nieobecności\n",
        "\n",
        "Za zmiennną celu przyjęto liczbę nieobecności na zajęciach, która została oszacowanana za pomocą wcześniej wymienionych metod. Na końcu badania dane oryginalne zestawiono z danymi oszacowanymi.\n",
        "\n",
        "Każdy estymator jest liczony dla 100 prób nielosowych i następnie uśredniona wartość zwracana jest do tabeli porównującej metody. Każda z prób nielosowych liczyła 20% wielkości całej populacji. Przyjęto wagę - im wyższa wartość absencji dla ucznia, tym wyższa waga. Na podstawie tego samego zbioru wyników liczone są obciążenia, wariancje i MSE."
      ],
      "metadata": {
        "id": "2stsW6d0Ytoq"
      }
    },
    {
      "cell_type": "markdown",
      "source": [
        "Pobranie i wczytanie potrzebnych do badania pakietów."
      ],
      "metadata": {
        "id": "gBkzibrJyv0H"
      }
    },
    {
      "cell_type": "code",
      "source": [
        "install.packages(\"tidyverse\")\n",
        "install.packages(\"survey\")\n",
        "\n",
        "library(tidyverse)\n",
        "library(survey)"
      ],
      "metadata": {
        "id": "oK1OYpyU0ESr",
        "colab": {
          "base_uri": "https://localhost:8080/"
        },
        "outputId": "bfbd6aed-7ead-48ea-e665-9e0927a3b6b5"
      },
      "execution_count": 3,
      "outputs": [
        {
          "output_type": "stream",
          "name": "stderr",
          "text": [
            "Installing package into ‘/usr/local/lib/R/site-library’\n",
            "(as ‘lib’ is unspecified)\n",
            "\n",
            "Installing package into ‘/usr/local/lib/R/site-library’\n",
            "(as ‘lib’ is unspecified)\n",
            "\n"
          ]
        }
      ]
    },
    {
      "cell_type": "markdown",
      "source": [
        "Sekcja kodu, w której wczytywany jest plik z danymi oraz wybierane są z niego odpowiednie kolumny.\n",
        "\n"
      ],
      "metadata": {
        "id": "g1S5JlY_0T8N"
      }
    },
    {
      "cell_type": "code",
      "execution_count": 5,
      "metadata": {
        "id": "dMLSsiAmxOLc",
        "colab": {
          "base_uri": "https://localhost:8080/",
          "height": 425
        },
        "outputId": "728bea39-893c-498c-b03b-2bd6b3ca63e9"
      },
      "outputs": [
        {
          "output_type": "stream",
          "name": "stderr",
          "text": [
            "\u001b[1mRows: \u001b[22m\u001b[34m395\u001b[39m \u001b[1mColumns: \u001b[22m\u001b[34m33\u001b[39m\n",
            "\u001b[36m──\u001b[39m \u001b[1mColumn specification\u001b[22m \u001b[36m────────────────────────────────────────────────────────\u001b[39m\n",
            "\u001b[1mDelimiter:\u001b[22m \",\"\n",
            "\u001b[31mchr\u001b[39m (17): school, sex, address, famsize, Pstatus, Mjob, Fjob, reason, guardi...\n",
            "\u001b[32mdbl\u001b[39m (16): age, Medu, Fedu, traveltime, studytime, failures, famrel, freetime...\n",
            "\n",
            "\u001b[36mℹ\u001b[39m Use `spec()` to retrieve the full column specification for this data.\n",
            "\u001b[36mℹ\u001b[39m Specify the column types or set `show_col_types = FALSE` to quiet this message.\n"
          ]
        },
        {
          "output_type": "display_data",
          "data": {
            "text/html": [
              "<table class=\"dataframe\">\n",
              "<caption>A tibble: 6 × 8</caption>\n",
              "<thead>\n",
              "\t<tr><th scope=col>sex</th><th scope=col>address</th><th scope=col>Fedu</th><th scope=col>Dalc</th><th scope=col>studytime</th><th scope=col>traveltime</th><th scope=col>absences</th><th scope=col>freetime</th></tr>\n",
              "\t<tr><th scope=col>&lt;chr&gt;</th><th scope=col>&lt;chr&gt;</th><th scope=col>&lt;chr&gt;</th><th scope=col>&lt;chr&gt;</th><th scope=col>&lt;chr&gt;</th><th scope=col>&lt;chr&gt;</th><th scope=col>&lt;dbl&gt;</th><th scope=col>&lt;chr&gt;</th></tr>\n",
              "</thead>\n",
              "<tbody>\n",
              "\t<tr><td>F</td><td>U</td><td>4</td><td>1</td><td>2</td><td>2</td><td> 6</td><td>3</td></tr>\n",
              "\t<tr><td>F</td><td>U</td><td>1</td><td>1</td><td>2</td><td>1</td><td> 4</td><td>3</td></tr>\n",
              "\t<tr><td>F</td><td>U</td><td>1</td><td>2</td><td>2</td><td>1</td><td>10</td><td>3</td></tr>\n",
              "\t<tr><td>F</td><td>U</td><td>2</td><td>1</td><td>3</td><td>1</td><td> 2</td><td>2</td></tr>\n",
              "\t<tr><td>F</td><td>U</td><td>3</td><td>1</td><td>2</td><td>1</td><td> 4</td><td>3</td></tr>\n",
              "\t<tr><td>M</td><td>U</td><td>3</td><td>1</td><td>2</td><td>1</td><td>10</td><td>4</td></tr>\n",
              "</tbody>\n",
              "</table>\n"
            ],
            "text/markdown": "\nA tibble: 6 × 8\n\n| sex &lt;chr&gt; | address &lt;chr&gt; | Fedu &lt;chr&gt; | Dalc &lt;chr&gt; | studytime &lt;chr&gt; | traveltime &lt;chr&gt; | absences &lt;dbl&gt; | freetime &lt;chr&gt; |\n|---|---|---|---|---|---|---|---|\n| F | U | 4 | 1 | 2 | 2 |  6 | 3 |\n| F | U | 1 | 1 | 2 | 1 |  4 | 3 |\n| F | U | 1 | 2 | 2 | 1 | 10 | 3 |\n| F | U | 2 | 1 | 3 | 1 |  2 | 2 |\n| F | U | 3 | 1 | 2 | 1 |  4 | 3 |\n| M | U | 3 | 1 | 2 | 1 | 10 | 4 |\n\n",
            "text/latex": "A tibble: 6 × 8\n\\begin{tabular}{llllllll}\n sex & address & Fedu & Dalc & studytime & traveltime & absences & freetime\\\\\n <chr> & <chr> & <chr> & <chr> & <chr> & <chr> & <dbl> & <chr>\\\\\n\\hline\n\t F & U & 4 & 1 & 2 & 2 &  6 & 3\\\\\n\t F & U & 1 & 1 & 2 & 1 &  4 & 3\\\\\n\t F & U & 1 & 2 & 2 & 1 & 10 & 3\\\\\n\t F & U & 2 & 1 & 3 & 1 &  2 & 2\\\\\n\t F & U & 3 & 1 & 2 & 1 &  4 & 3\\\\\n\t M & U & 3 & 1 & 2 & 1 & 10 & 4\\\\\n\\end{tabular}\n",
            "text/plain": [
              "  sex address Fedu Dalc studytime traveltime absences freetime\n",
              "1 F   U       4    1    2         2           6       3       \n",
              "2 F   U       1    1    2         1           4       3       \n",
              "3 F   U       1    2    2         1          10       3       \n",
              "4 F   U       2    1    3         1           2       2       \n",
              "5 F   U       3    1    2         1           4       3       \n",
              "6 M   U       3    1    2         1          10       4       "
            ]
          },
          "metadata": {}
        }
      ],
      "source": [
        "data <- read_csv(\"student_data.csv\")\n",
        "data <- data %>% select(sex, address, Fedu, Dalc, studytime, traveltime, absences, freetime) %>%\n",
        "  drop_na()\n",
        "data <- data %>%\n",
        "  mutate(\n",
        "    Fedu = as.character(Fedu),\n",
        "    Dalc = as.character(Dalc),\n",
        "    studytime = as.character(studytime),\n",
        "    traveltime = as.character(traveltime),\n",
        "    freetime = as.character(freetime)\n",
        "  )\n",
        "head(data)\n"
      ]
    },
    {
      "cell_type": "markdown",
      "source": [
        "Metody naiwne\n",
        "\n",
        "Wylosowanie 100 prób nielosowych z zbioru danych liczącego 20% ilości rekordów w bazie i obliczenie z nich średnich naiwnych, odsetka osób z absencją powyżej 10 oraz mediany naiwnej."
      ],
      "metadata": {
        "id": "4sxhUuSS6B7C"
      }
    },
    {
      "cell_type": "code",
      "source": [
        "C <- 100\n",
        "total_rows <- nrow(data)\n",
        "size <- round(0.2*total_rows)\n",
        "mean_naive <- numeric(C)\n",
        "percentage_naive <- numeric(C)\n",
        "median_naive <- numeric(C)\n",
        "\n",
        "for (c in 1:C){\n",
        "  #losowanie próby nielosowej\n",
        "  id_nielosowa <- sample(x = 1:total_rows, size,\n",
        "                      prob = data$absences/sum(data$absences))\n",
        "  proba_nielosowa <- data[id_nielosowa, ]\n",
        "  #średnia\n",
        "  mean_naive[c] <- mean(proba_nielosowa$absences)\n",
        "  #współczynnik uczniów o liczbie nieobecności większej od 10\n",
        "  percentage_naive[c] <- sum(proba_nielosowa$absences>10)/nrow(proba_nielosowa)\n",
        "  #mediana\n",
        "  median_naive[c] <- median(proba_nielosowa$absences)\n",
        "}"
      ],
      "metadata": {
        "id": "9YIKswO40vnp"
      },
      "execution_count": 6,
      "outputs": []
    },
    {
      "cell_type": "markdown",
      "source": [
        "# Kalibracja\n",
        "\n",
        "Wartości globalne odtwarzane według zmiennych `freetime`, `address`, `studytime` oraz `sex` z wykorzystaniem funckji `xtabs`. Tworzony jest obiekt `survey.design` na podstawie próby nielosowej. Sama kalibracja odbywa się dzięki funkcji `calibrate`. Przeprowadzane są dwie kalibracje z oraz bez zmiennej `address`. Na samym końcu wyniki, czyli średnie, są przypisywane do wektorów `mean_kalibracja` oraz `mean_kalibracja2`.\n",
        "\n",
        "UWAGA!: Wyświetlenie komunikatów `Warning message in svydesign.default(ids = ~1, data = proba_nielosowa): “No weights or probabilities supplied, assuming equal probability”` nie świadczy o błędzie w kodzie, ale o pominięciu przypisania wag w tej metodzie estymacji, co jest zgodne z założeniami naszego badania.\n"
      ],
      "metadata": {
        "id": "OpEEU6l-6ETh"
      }
    },
    {
      "cell_type": "code",
      "source": [
        "#https://github.com/DepartmentOfStatisticsPUE/bi-2022/blob/main/notebooks/2-quasi-cal.ipynb\n",
        "# kalibracja dla 100 prób nielosowych\n",
        "A <- 100\n",
        "mean_kalibracja <- numeric(A)\n",
        "mean_kalibracja2 <- numeric(A)\n",
        "\n",
        "for (a in 1:A){\n",
        "\n",
        "proba_losowa <- data[sample(nrow(data), size), ]\n",
        "\n",
        "id_nielosowa <- sample(x = 1:total_rows, size,\n",
        "                      prob = data$absences/sum(data$absences))\n",
        "  proba_nielosowa <- data[id_nielosowa, ]\n",
        "\n",
        "total_freetime <- xtabs( ~ freetime, data = proba_losowa)\n",
        "total_address <- xtabs( ~ address, data = proba_losowa)\n",
        "total_studytime <- xtabs( ~ studytime, data = proba_losowa)\n",
        "total_sex <- xtabs( ~ sex, data = proba_losowa)\n",
        "\n",
        "svy_nielosowa <- svydesign(ids = ~1,  data = proba_nielosowa)\n",
        "\n",
        "## pierwszy zestaw\n",
        "svy_nielosowa_calib <- calibrate(\n",
        "  design = svy_nielosowa,\n",
        "  formula = list(~sex, ~studytime),\n",
        "  population = list(total_sex, total_studytime)\n",
        ")\n",
        "\n",
        "## drugi zestaw\n",
        "svy_nielosowa_calib2 <- calibrate(\n",
        "  design = svy_nielosowa,\n",
        "  formula = list(~sex, ~studytime, ~address),\n",
        "  population = list(total_sex, total_studytime, total_address)\n",
        ")\n",
        "\n",
        "mean_kalibracja[a] <- svymean(~absences, svy_nielosowa_calib)[1]\n",
        "mean_kalibracja2[a] <- svymean(~absences, svy_nielosowa_calib2)[1]\n",
        "}"
      ],
      "metadata": {
        "id": "kprDE7zABy_I",
        "colab": {
          "base_uri": "https://localhost:8080/"
        },
        "outputId": "99d898f3-a16b-4699-96a0-46e06a04abea"
      },
      "execution_count": 7,
      "outputs": [
        {
          "output_type": "stream",
          "name": "stderr",
          "text": [
            "Warning message in svydesign.default(ids = ~1, data = proba_nielosowa):\n",
            "“No weights or probabilities supplied, assuming equal probability”\n",
            "Warning message in svydesign.default(ids = ~1, data = proba_nielosowa):\n",
            "“No weights or probabilities supplied, assuming equal probability”\n",
            "Warning message in svydesign.default(ids = ~1, data = proba_nielosowa):\n",
            "“No weights or probabilities supplied, assuming equal probability”\n",
            "Warning message in svydesign.default(ids = ~1, data = proba_nielosowa):\n",
            "“No weights or probabilities supplied, assuming equal probability”\n",
            "Warning message in svydesign.default(ids = ~1, data = proba_nielosowa):\n",
            "“No weights or probabilities supplied, assuming equal probability”\n",
            "Warning message in svydesign.default(ids = ~1, data = proba_nielosowa):\n",
            "“No weights or probabilities supplied, assuming equal probability”\n",
            "Warning message in svydesign.default(ids = ~1, data = proba_nielosowa):\n",
            "“No weights or probabilities supplied, assuming equal probability”\n",
            "Warning message in svydesign.default(ids = ~1, data = proba_nielosowa):\n",
            "“No weights or probabilities supplied, assuming equal probability”\n",
            "Warning message in svydesign.default(ids = ~1, data = proba_nielosowa):\n",
            "“No weights or probabilities supplied, assuming equal probability”\n",
            "Warning message in svydesign.default(ids = ~1, data = proba_nielosowa):\n",
            "“No weights or probabilities supplied, assuming equal probability”\n",
            "Warning message in svydesign.default(ids = ~1, data = proba_nielosowa):\n",
            "“No weights or probabilities supplied, assuming equal probability”\n",
            "Warning message in svydesign.default(ids = ~1, data = proba_nielosowa):\n",
            "“No weights or probabilities supplied, assuming equal probability”\n",
            "Warning message in svydesign.default(ids = ~1, data = proba_nielosowa):\n",
            "“No weights or probabilities supplied, assuming equal probability”\n",
            "Warning message in svydesign.default(ids = ~1, data = proba_nielosowa):\n",
            "“No weights or probabilities supplied, assuming equal probability”\n",
            "Warning message in svydesign.default(ids = ~1, data = proba_nielosowa):\n",
            "“No weights or probabilities supplied, assuming equal probability”\n",
            "Warning message in svydesign.default(ids = ~1, data = proba_nielosowa):\n",
            "“No weights or probabilities supplied, assuming equal probability”\n",
            "Warning message in svydesign.default(ids = ~1, data = proba_nielosowa):\n",
            "“No weights or probabilities supplied, assuming equal probability”\n",
            "Warning message in svydesign.default(ids = ~1, data = proba_nielosowa):\n",
            "“No weights or probabilities supplied, assuming equal probability”\n",
            "Warning message in svydesign.default(ids = ~1, data = proba_nielosowa):\n",
            "“No weights or probabilities supplied, assuming equal probability”\n",
            "Warning message in svydesign.default(ids = ~1, data = proba_nielosowa):\n",
            "“No weights or probabilities supplied, assuming equal probability”\n",
            "Warning message in svydesign.default(ids = ~1, data = proba_nielosowa):\n",
            "“No weights or probabilities supplied, assuming equal probability”\n",
            "Warning message in svydesign.default(ids = ~1, data = proba_nielosowa):\n",
            "“No weights or probabilities supplied, assuming equal probability”\n",
            "Warning message in svydesign.default(ids = ~1, data = proba_nielosowa):\n",
            "“No weights or probabilities supplied, assuming equal probability”\n",
            "Warning message in svydesign.default(ids = ~1, data = proba_nielosowa):\n",
            "“No weights or probabilities supplied, assuming equal probability”\n",
            "Warning message in svydesign.default(ids = ~1, data = proba_nielosowa):\n",
            "“No weights or probabilities supplied, assuming equal probability”\n",
            "Warning message in svydesign.default(ids = ~1, data = proba_nielosowa):\n",
            "“No weights or probabilities supplied, assuming equal probability”\n",
            "Warning message in svydesign.default(ids = ~1, data = proba_nielosowa):\n",
            "“No weights or probabilities supplied, assuming equal probability”\n",
            "Warning message in svydesign.default(ids = ~1, data = proba_nielosowa):\n",
            "“No weights or probabilities supplied, assuming equal probability”\n",
            "Warning message in svydesign.default(ids = ~1, data = proba_nielosowa):\n",
            "“No weights or probabilities supplied, assuming equal probability”\n",
            "Warning message in svydesign.default(ids = ~1, data = proba_nielosowa):\n",
            "“No weights or probabilities supplied, assuming equal probability”\n",
            "Warning message in svydesign.default(ids = ~1, data = proba_nielosowa):\n",
            "“No weights or probabilities supplied, assuming equal probability”\n",
            "Warning message in svydesign.default(ids = ~1, data = proba_nielosowa):\n",
            "“No weights or probabilities supplied, assuming equal probability”\n",
            "Warning message in svydesign.default(ids = ~1, data = proba_nielosowa):\n",
            "“No weights or probabilities supplied, assuming equal probability”\n",
            "Warning message in svydesign.default(ids = ~1, data = proba_nielosowa):\n",
            "“No weights or probabilities supplied, assuming equal probability”\n",
            "Warning message in svydesign.default(ids = ~1, data = proba_nielosowa):\n",
            "“No weights or probabilities supplied, assuming equal probability”\n",
            "Warning message in svydesign.default(ids = ~1, data = proba_nielosowa):\n",
            "“No weights or probabilities supplied, assuming equal probability”\n",
            "Warning message in svydesign.default(ids = ~1, data = proba_nielosowa):\n",
            "“No weights or probabilities supplied, assuming equal probability”\n",
            "Warning message in svydesign.default(ids = ~1, data = proba_nielosowa):\n",
            "“No weights or probabilities supplied, assuming equal probability”\n",
            "Warning message in svydesign.default(ids = ~1, data = proba_nielosowa):\n",
            "“No weights or probabilities supplied, assuming equal probability”\n",
            "Warning message in svydesign.default(ids = ~1, data = proba_nielosowa):\n",
            "“No weights or probabilities supplied, assuming equal probability”\n",
            "Warning message in svydesign.default(ids = ~1, data = proba_nielosowa):\n",
            "“No weights or probabilities supplied, assuming equal probability”\n",
            "Warning message in svydesign.default(ids = ~1, data = proba_nielosowa):\n",
            "“No weights or probabilities supplied, assuming equal probability”\n",
            "Warning message in svydesign.default(ids = ~1, data = proba_nielosowa):\n",
            "“No weights or probabilities supplied, assuming equal probability”\n",
            "Warning message in svydesign.default(ids = ~1, data = proba_nielosowa):\n",
            "“No weights or probabilities supplied, assuming equal probability”\n",
            "Warning message in svydesign.default(ids = ~1, data = proba_nielosowa):\n",
            "“No weights or probabilities supplied, assuming equal probability”\n",
            "Warning message in svydesign.default(ids = ~1, data = proba_nielosowa):\n",
            "“No weights or probabilities supplied, assuming equal probability”\n",
            "Warning message in svydesign.default(ids = ~1, data = proba_nielosowa):\n",
            "“No weights or probabilities supplied, assuming equal probability”\n",
            "Warning message in svydesign.default(ids = ~1, data = proba_nielosowa):\n",
            "“No weights or probabilities supplied, assuming equal probability”\n",
            "Warning message in svydesign.default(ids = ~1, data = proba_nielosowa):\n",
            "“No weights or probabilities supplied, assuming equal probability”\n",
            "Warning message in svydesign.default(ids = ~1, data = proba_nielosowa):\n",
            "“No weights or probabilities supplied, assuming equal probability”\n",
            "Warning message in svydesign.default(ids = ~1, data = proba_nielosowa):\n",
            "“No weights or probabilities supplied, assuming equal probability”\n",
            "Warning message in svydesign.default(ids = ~1, data = proba_nielosowa):\n",
            "“No weights or probabilities supplied, assuming equal probability”\n",
            "Warning message in svydesign.default(ids = ~1, data = proba_nielosowa):\n",
            "“No weights or probabilities supplied, assuming equal probability”\n",
            "Warning message in svydesign.default(ids = ~1, data = proba_nielosowa):\n",
            "“No weights or probabilities supplied, assuming equal probability”\n",
            "Warning message in svydesign.default(ids = ~1, data = proba_nielosowa):\n",
            "“No weights or probabilities supplied, assuming equal probability”\n",
            "Warning message in svydesign.default(ids = ~1, data = proba_nielosowa):\n",
            "“No weights or probabilities supplied, assuming equal probability”\n",
            "Warning message in svydesign.default(ids = ~1, data = proba_nielosowa):\n",
            "“No weights or probabilities supplied, assuming equal probability”\n",
            "Warning message in svydesign.default(ids = ~1, data = proba_nielosowa):\n",
            "“No weights or probabilities supplied, assuming equal probability”\n",
            "Warning message in svydesign.default(ids = ~1, data = proba_nielosowa):\n",
            "“No weights or probabilities supplied, assuming equal probability”\n",
            "Warning message in svydesign.default(ids = ~1, data = proba_nielosowa):\n",
            "“No weights or probabilities supplied, assuming equal probability”\n",
            "Warning message in svydesign.default(ids = ~1, data = proba_nielosowa):\n",
            "“No weights or probabilities supplied, assuming equal probability”\n",
            "Warning message in svydesign.default(ids = ~1, data = proba_nielosowa):\n",
            "“No weights or probabilities supplied, assuming equal probability”\n",
            "Warning message in svydesign.default(ids = ~1, data = proba_nielosowa):\n",
            "“No weights or probabilities supplied, assuming equal probability”\n",
            "Warning message in svydesign.default(ids = ~1, data = proba_nielosowa):\n",
            "“No weights or probabilities supplied, assuming equal probability”\n",
            "Warning message in svydesign.default(ids = ~1, data = proba_nielosowa):\n",
            "“No weights or probabilities supplied, assuming equal probability”\n",
            "Warning message in svydesign.default(ids = ~1, data = proba_nielosowa):\n",
            "“No weights or probabilities supplied, assuming equal probability”\n",
            "Warning message in svydesign.default(ids = ~1, data = proba_nielosowa):\n",
            "“No weights or probabilities supplied, assuming equal probability”\n",
            "Warning message in svydesign.default(ids = ~1, data = proba_nielosowa):\n",
            "“No weights or probabilities supplied, assuming equal probability”\n",
            "Warning message in svydesign.default(ids = ~1, data = proba_nielosowa):\n",
            "“No weights or probabilities supplied, assuming equal probability”\n",
            "Warning message in svydesign.default(ids = ~1, data = proba_nielosowa):\n",
            "“No weights or probabilities supplied, assuming equal probability”\n",
            "Warning message in svydesign.default(ids = ~1, data = proba_nielosowa):\n",
            "“No weights or probabilities supplied, assuming equal probability”\n",
            "Warning message in svydesign.default(ids = ~1, data = proba_nielosowa):\n",
            "“No weights or probabilities supplied, assuming equal probability”\n",
            "Warning message in svydesign.default(ids = ~1, data = proba_nielosowa):\n",
            "“No weights or probabilities supplied, assuming equal probability”\n",
            "Warning message in svydesign.default(ids = ~1, data = proba_nielosowa):\n",
            "“No weights or probabilities supplied, assuming equal probability”\n",
            "Warning message in svydesign.default(ids = ~1, data = proba_nielosowa):\n",
            "“No weights or probabilities supplied, assuming equal probability”\n",
            "Warning message in svydesign.default(ids = ~1, data = proba_nielosowa):\n",
            "“No weights or probabilities supplied, assuming equal probability”\n",
            "Warning message in svydesign.default(ids = ~1, data = proba_nielosowa):\n",
            "“No weights or probabilities supplied, assuming equal probability”\n",
            "Warning message in svydesign.default(ids = ~1, data = proba_nielosowa):\n",
            "“No weights or probabilities supplied, assuming equal probability”\n",
            "Warning message in svydesign.default(ids = ~1, data = proba_nielosowa):\n",
            "“No weights or probabilities supplied, assuming equal probability”\n",
            "Warning message in svydesign.default(ids = ~1, data = proba_nielosowa):\n",
            "“No weights or probabilities supplied, assuming equal probability”\n",
            "Warning message in svydesign.default(ids = ~1, data = proba_nielosowa):\n",
            "“No weights or probabilities supplied, assuming equal probability”\n",
            "Warning message in svydesign.default(ids = ~1, data = proba_nielosowa):\n",
            "“No weights or probabilities supplied, assuming equal probability”\n",
            "Warning message in svydesign.default(ids = ~1, data = proba_nielosowa):\n",
            "“No weights or probabilities supplied, assuming equal probability”\n",
            "Warning message in svydesign.default(ids = ~1, data = proba_nielosowa):\n",
            "“No weights or probabilities supplied, assuming equal probability”\n",
            "Warning message in svydesign.default(ids = ~1, data = proba_nielosowa):\n",
            "“No weights or probabilities supplied, assuming equal probability”\n",
            "Warning message in svydesign.default(ids = ~1, data = proba_nielosowa):\n",
            "“No weights or probabilities supplied, assuming equal probability”\n",
            "Warning message in svydesign.default(ids = ~1, data = proba_nielosowa):\n",
            "“No weights or probabilities supplied, assuming equal probability”\n",
            "Warning message in svydesign.default(ids = ~1, data = proba_nielosowa):\n",
            "“No weights or probabilities supplied, assuming equal probability”\n",
            "Warning message in svydesign.default(ids = ~1, data = proba_nielosowa):\n",
            "“No weights or probabilities supplied, assuming equal probability”\n",
            "Warning message in svydesign.default(ids = ~1, data = proba_nielosowa):\n",
            "“No weights or probabilities supplied, assuming equal probability”\n",
            "Warning message in svydesign.default(ids = ~1, data = proba_nielosowa):\n",
            "“No weights or probabilities supplied, assuming equal probability”\n",
            "Warning message in svydesign.default(ids = ~1, data = proba_nielosowa):\n",
            "“No weights or probabilities supplied, assuming equal probability”\n",
            "Warning message in svydesign.default(ids = ~1, data = proba_nielosowa):\n",
            "“No weights or probabilities supplied, assuming equal probability”\n",
            "Warning message in svydesign.default(ids = ~1, data = proba_nielosowa):\n",
            "“No weights or probabilities supplied, assuming equal probability”\n",
            "Warning message in svydesign.default(ids = ~1, data = proba_nielosowa):\n",
            "“No weights or probabilities supplied, assuming equal probability”\n",
            "Warning message in svydesign.default(ids = ~1, data = proba_nielosowa):\n",
            "“No weights or probabilities supplied, assuming equal probability”\n",
            "Warning message in svydesign.default(ids = ~1, data = proba_nielosowa):\n",
            "“No weights or probabilities supplied, assuming equal probability”\n",
            "Warning message in svydesign.default(ids = ~1, data = proba_nielosowa):\n",
            "“No weights or probabilities supplied, assuming equal probability”\n",
            "Warning message in svydesign.default(ids = ~1, data = proba_nielosowa):\n",
            "“No weights or probabilities supplied, assuming equal probability”\n",
            "Warning message in svydesign.default(ids = ~1, data = proba_nielosowa):\n",
            "“No weights or probabilities supplied, assuming equal probability”\n"
          ]
        }
      ]
    },
    {
      "cell_type": "code",
      "source": [
        "svy_nielosowa_calib"
      ],
      "metadata": {
        "colab": {
          "base_uri": "https://localhost:8080/",
          "height": 69
        },
        "id": "8DdHcHBRBfio",
        "outputId": "2f1ec128-a71e-42e7-b353-85de83f4bc4e"
      },
      "execution_count": 8,
      "outputs": [
        {
          "output_type": "display_data",
          "data": {
            "text/plain": [
              "Independent Sampling design (with replacement)\n",
              "calibrate(design = svy_nielosowa, formula = list(~sex, ~studytime), \n",
              "    population = list(total_sex, total_studytime))"
            ]
          },
          "metadata": {}
        }
      ]
    },
    {
      "cell_type": "markdown",
      "source": [
        "# Post-stratyfikacja\n"
      ],
      "metadata": {
        "id": "T4y7TTR66LUX"
      }
    },
    {
      "cell_type": "code",
      "source": [
        "\n",
        "\n",
        "B <- 100\n",
        "wyniki_naiwny <- numeric(B)\n",
        "wyniki_ps <- numeric(B)\n",
        "mean_ps <- numeric(B)\n",
        "\n",
        "## wartości globalne\n",
        "pop_sex_address <- xtabs(~ sex + address, data = data)\n",
        "\n",
        "for (b in 1:B) {\n",
        "  id_nielosowa <- sample(x = 1:total_rows, size = 0.2*total_rows, prob = data$absences/sum(data$absences))\n",
        "  proba_nielosowa <- data[id_nielosowa, ]\n",
        "  ## wyliczam estymator naiwny\n",
        "  wyniki_naiwny[b] <- mean(proba_nielosowa$absences)\n",
        "  ## przygotowanie do post-stratyfikcji\n",
        "  svydes <- svydesign(ids = ~1, data = proba_nielosowa, weights = ~1)\n",
        "  ## post-stratyfikacja\n",
        "  svydes_post <- postStratify(svydes, ~ sex + address, pop_sex_address)\n",
        "  ## wyliczam estymator post-stratyfikacyjny\n",
        "  mean_ps[b] <- svymean(~ absences, svydes_post)[1]\n",
        "}\n",
        "\n",
        "mean_ps"
      ],
      "metadata": {
        "id": "1RRq1_dYDOVP",
        "colab": {
          "base_uri": "https://localhost:8080/",
          "height": 191
        },
        "outputId": "efec88ae-20fa-4a42-f531-a3f95d9f442e"
      },
      "execution_count": 9,
      "outputs": [
        {
          "output_type": "display_data",
          "data": {
            "text/html": [
              "<style>\n",
              ".list-inline {list-style: none; margin:0; padding: 0}\n",
              ".list-inline>li {display: inline-block}\n",
              ".list-inline>li:not(:last-child)::after {content: \"\\00b7\"; padding: 0 .5ex}\n",
              "</style>\n",
              "<ol class=list-inline><li>11.7448164783812</li><li>12.4824497196387</li><li>13.5850010046213</li><li>13.6277251112694</li><li>12.9626152300583</li><li>13.2038679783769</li><li>12.4051002235702</li><li>12.8567510548523</li><li>13.7900480139677</li><li>12.929029535865</li><li>12.285682137834</li><li>12.4616179811749</li><li>13.656751982195</li><li>13.0551445741319</li><li>12.9974754458746</li><li>13.2965189873418</li><li>13.9038537271449</li><li>14.4027802893309</li><li>13.5081675708258</li><li>13.2690206528981</li><li>14.1250762616194</li><li>13.080197012851</li><li>13.5727094635322</li><li>13.6374498075764</li><li>13.4349627699181</li><li>12.4813220815752</li><li>13.1552401653667</li><li>13.0403697006229</li><li>13.1783949698023</li><li>13.9179746835443</li><li>13.7010126582278</li><li>12.9430658418</li><li>13.7144503872429</li><li>13.8940645834938</li><li>13.7065592635213</li><li>13.7363150492264</li><li>13.5598101265823</li><li>14.0243103227826</li><li>13.6810829817159</li><li>14.2864635387298</li><li>12.9028465133161</li><li>12.9972921992891</li><li>12.830547068238</li><li>13.1241193684497</li><li>13.6784633818608</li><li>12.558776371308</li><li>13.4935678313792</li><li>12.7451778179626</li><li>12.7814426361262</li><li>12.9548576114704</li><li>12.0994312576591</li><li>13.185694040785</li><li>13.7682055100521</li><li>12.3971308016878</li><li>13.7708137432188</li><li>14.8862522468075</li><li>13.1189131383675</li><li>13.8025020768505</li><li>12.8330718954248</li><li>13.5057866184448</li><li>13.2735905163753</li><li>13.8165178035281</li><li>13.1181434599156</li><li>13.1239711132749</li><li>12.4289612216194</li><li>13.565893803013</li><li>13.9166319552701</li><li>13.3430266147355</li><li>13.3977496483826</li><li>14.5851195499297</li><li>13.3072935503315</li><li>14.2761874331861</li><li>13.3165628558034</li><li>12.6315019800464</li><li>13.5708101265823</li><li>12.1544206379649</li><li>12.0997013956508</li><li>12.9067483326528</li><li>12.8214936708861</li><li>12.5867358476443</li><li>12.3338517179024</li><li>11.5936206491209</li><li>13.3368971752822</li><li>12.6261862462062</li><li>14.5885751379422</li><li>13.1010650371017</li><li>12.2656258146743</li><li>13.8600524575208</li><li>13.3007332974928</li><li>13.4464354951697</li><li>13.0945131132622</li><li>12.80181418308</li><li>13.1730433666264</li><li>12.5930950608091</li><li>13.8310227044404</li><li>12.767855312807</li><li>13.2434544712127</li><li>14.5650416239024</li><li>13.3428247357198</li><li>13.1552257626461</li></ol>\n"
            ],
            "text/markdown": "1. 11.7448164783812\n2. 12.4824497196387\n3. 13.5850010046213\n4. 13.6277251112694\n5. 12.9626152300583\n6. 13.2038679783769\n7. 12.4051002235702\n8. 12.8567510548523\n9. 13.7900480139677\n10. 12.929029535865\n11. 12.285682137834\n12. 12.4616179811749\n13. 13.656751982195\n14. 13.0551445741319\n15. 12.9974754458746\n16. 13.2965189873418\n17. 13.9038537271449\n18. 14.4027802893309\n19. 13.5081675708258\n20. 13.2690206528981\n21. 14.1250762616194\n22. 13.080197012851\n23. 13.5727094635322\n24. 13.6374498075764\n25. 13.4349627699181\n26. 12.4813220815752\n27. 13.1552401653667\n28. 13.0403697006229\n29. 13.1783949698023\n30. 13.9179746835443\n31. 13.7010126582278\n32. 12.9430658418\n33. 13.7144503872429\n34. 13.8940645834938\n35. 13.7065592635213\n36. 13.7363150492264\n37. 13.5598101265823\n38. 14.0243103227826\n39. 13.6810829817159\n40. 14.2864635387298\n41. 12.9028465133161\n42. 12.9972921992891\n43. 12.830547068238\n44. 13.1241193684497\n45. 13.6784633818608\n46. 12.558776371308\n47. 13.4935678313792\n48. 12.7451778179626\n49. 12.7814426361262\n50. 12.9548576114704\n51. 12.0994312576591\n52. 13.185694040785\n53. 13.7682055100521\n54. 12.3971308016878\n55. 13.7708137432188\n56. 14.8862522468075\n57. 13.1189131383675\n58. 13.8025020768505\n59. 12.8330718954248\n60. 13.5057866184448\n61. 13.2735905163753\n62. 13.8165178035281\n63. 13.1181434599156\n64. 13.1239711132749\n65. 12.4289612216194\n66. 13.565893803013\n67. 13.9166319552701\n68. 13.3430266147355\n69. 13.3977496483826\n70. 14.5851195499297\n71. 13.3072935503315\n72. 14.2761874331861\n73. 13.3165628558034\n74. 12.6315019800464\n75. 13.5708101265823\n76. 12.1544206379649\n77. 12.0997013956508\n78. 12.9067483326528\n79. 12.8214936708861\n80. 12.5867358476443\n81. 12.3338517179024\n82. 11.5936206491209\n83. 13.3368971752822\n84. 12.6261862462062\n85. 14.5885751379422\n86. 13.1010650371017\n87. 12.2656258146743\n88. 13.8600524575208\n89. 13.3007332974928\n90. 13.4464354951697\n91. 13.0945131132622\n92. 12.80181418308\n93. 13.1730433666264\n94. 12.5930950608091\n95. 13.8310227044404\n96. 12.767855312807\n97. 13.2434544712127\n98. 14.5650416239024\n99. 13.3428247357198\n100. 13.1552257626461\n\n\n",
            "text/latex": "\\begin{enumerate*}\n\\item 11.7448164783812\n\\item 12.4824497196387\n\\item 13.5850010046213\n\\item 13.6277251112694\n\\item 12.9626152300583\n\\item 13.2038679783769\n\\item 12.4051002235702\n\\item 12.8567510548523\n\\item 13.7900480139677\n\\item 12.929029535865\n\\item 12.285682137834\n\\item 12.4616179811749\n\\item 13.656751982195\n\\item 13.0551445741319\n\\item 12.9974754458746\n\\item 13.2965189873418\n\\item 13.9038537271449\n\\item 14.4027802893309\n\\item 13.5081675708258\n\\item 13.2690206528981\n\\item 14.1250762616194\n\\item 13.080197012851\n\\item 13.5727094635322\n\\item 13.6374498075764\n\\item 13.4349627699181\n\\item 12.4813220815752\n\\item 13.1552401653667\n\\item 13.0403697006229\n\\item 13.1783949698023\n\\item 13.9179746835443\n\\item 13.7010126582278\n\\item 12.9430658418\n\\item 13.7144503872429\n\\item 13.8940645834938\n\\item 13.7065592635213\n\\item 13.7363150492264\n\\item 13.5598101265823\n\\item 14.0243103227826\n\\item 13.6810829817159\n\\item 14.2864635387298\n\\item 12.9028465133161\n\\item 12.9972921992891\n\\item 12.830547068238\n\\item 13.1241193684497\n\\item 13.6784633818608\n\\item 12.558776371308\n\\item 13.4935678313792\n\\item 12.7451778179626\n\\item 12.7814426361262\n\\item 12.9548576114704\n\\item 12.0994312576591\n\\item 13.185694040785\n\\item 13.7682055100521\n\\item 12.3971308016878\n\\item 13.7708137432188\n\\item 14.8862522468075\n\\item 13.1189131383675\n\\item 13.8025020768505\n\\item 12.8330718954248\n\\item 13.5057866184448\n\\item 13.2735905163753\n\\item 13.8165178035281\n\\item 13.1181434599156\n\\item 13.1239711132749\n\\item 12.4289612216194\n\\item 13.565893803013\n\\item 13.9166319552701\n\\item 13.3430266147355\n\\item 13.3977496483826\n\\item 14.5851195499297\n\\item 13.3072935503315\n\\item 14.2761874331861\n\\item 13.3165628558034\n\\item 12.6315019800464\n\\item 13.5708101265823\n\\item 12.1544206379649\n\\item 12.0997013956508\n\\item 12.9067483326528\n\\item 12.8214936708861\n\\item 12.5867358476443\n\\item 12.3338517179024\n\\item 11.5936206491209\n\\item 13.3368971752822\n\\item 12.6261862462062\n\\item 14.5885751379422\n\\item 13.1010650371017\n\\item 12.2656258146743\n\\item 13.8600524575208\n\\item 13.3007332974928\n\\item 13.4464354951697\n\\item 13.0945131132622\n\\item 12.80181418308\n\\item 13.1730433666264\n\\item 12.5930950608091\n\\item 13.8310227044404\n\\item 12.767855312807\n\\item 13.2434544712127\n\\item 14.5650416239024\n\\item 13.3428247357198\n\\item 13.1552257626461\n\\end{enumerate*}\n",
            "text/plain": [
              "  [1] 11.74482 12.48245 13.58500 13.62773 12.96262 13.20387 12.40510 12.85675\n",
              "  [9] 13.79005 12.92903 12.28568 12.46162 13.65675 13.05514 12.99748 13.29652\n",
              " [17] 13.90385 14.40278 13.50817 13.26902 14.12508 13.08020 13.57271 13.63745\n",
              " [25] 13.43496 12.48132 13.15524 13.04037 13.17839 13.91797 13.70101 12.94307\n",
              " [33] 13.71445 13.89406 13.70656 13.73632 13.55981 14.02431 13.68108 14.28646\n",
              " [41] 12.90285 12.99729 12.83055 13.12412 13.67846 12.55878 13.49357 12.74518\n",
              " [49] 12.78144 12.95486 12.09943 13.18569 13.76821 12.39713 13.77081 14.88625\n",
              " [57] 13.11891 13.80250 12.83307 13.50579 13.27359 13.81652 13.11814 13.12397\n",
              " [65] 12.42896 13.56589 13.91663 13.34303 13.39775 14.58512 13.30729 14.27619\n",
              " [73] 13.31656 12.63150 13.57081 12.15442 12.09970 12.90675 12.82149 12.58674\n",
              " [81] 12.33385 11.59362 13.33690 12.62619 14.58858 13.10107 12.26563 13.86005\n",
              " [89] 13.30073 13.44644 13.09451 12.80181 13.17304 12.59310 13.83102 12.76786\n",
              " [97] 13.24345 14.56504 13.34282 13.15523"
            ]
          },
          "metadata": {}
        }
      ]
    },
    {
      "cell_type": "markdown",
      "source": [
        "# Wyniki\n",
        "\n",
        "Porównujemy wszystkie wyniki w tabelce."
      ],
      "metadata": {
        "id": "E0BlYxUeejQY"
      }
    },
    {
      "cell_type": "code",
      "source": [
        "wyniki <- data.frame(\n",
        "  populacja = mean(data$absences),\n",
        "  naive = mean(mean_naive),\n",
        "  kalibracja = mean(mean_kalibracja),\n",
        "  kalibracja2 = mean(mean_kalibracja2),\n",
        "  ps = mean(mean_ps)\n",
        ")\n",
        "rownames(wyniki) <- \"srednia\"\n",
        "\n",
        "wyniki_obc <- wyniki[1,] - mean(data$absences)\n",
        "rownames(wyniki_obc) <- \"obciazenie\"\n",
        "\n",
        "wyniki_var <- data.frame(\n",
        "  populacja = 0,\n",
        "  naive = var(mean_naive),\n",
        "  kalibracja = var(mean_kalibracja),\n",
        "  kalibracja2 = var(mean_kalibracja2),\n",
        "  ps = var(mean_ps))\n",
        "rownames(wyniki_var) <- \"wariancja\"\n",
        "\n",
        "wyniki_MSE <- data.frame(\n",
        "  populacja = wyniki_obc[1,1]^2+wyniki_var[1,1],\n",
        "  naive = wyniki_obc[1,2]^2+wyniki_var[1,2],\n",
        "  kalibracja = wyniki_obc[1,3]^2+wyniki_var[1,3],\n",
        "  kalibracja2 = wyniki_obc[1,4]^2+wyniki_var[1,4],\n",
        "  ps = wyniki_obc[1,5]^2+wyniki_var[1,5])\n",
        "rownames(wyniki_MSE) <- \"MSE\"\n",
        "\n",
        "wyniki <- rbind(wyniki, wyniki_obc, wyniki_var, wyniki_MSE)\n",
        "wyniki"
      ],
      "metadata": {
        "id": "aET1_OnXLg1_",
        "colab": {
          "base_uri": "https://localhost:8080/",
          "height": 224
        },
        "outputId": "d509d793-93d5-4c57-d65e-75df76f75027"
      },
      "execution_count": 10,
      "outputs": [
        {
          "output_type": "display_data",
          "data": {
            "text/html": [
              "<table class=\"dataframe\">\n",
              "<caption>A data.frame: 4 × 5</caption>\n",
              "<thead>\n",
              "\t<tr><th></th><th scope=col>populacja</th><th scope=col>naive</th><th scope=col>kalibracja</th><th scope=col>kalibracja2</th><th scope=col>ps</th></tr>\n",
              "\t<tr><th></th><th scope=col>&lt;dbl&gt;</th><th scope=col>&lt;dbl&gt;</th><th scope=col>&lt;dbl&gt;</th><th scope=col>&lt;dbl&gt;</th><th scope=col>&lt;dbl&gt;</th></tr>\n",
              "</thead>\n",
              "<tbody>\n",
              "\t<tr><th scope=row>srednia</th><td>5.708861</td><td>13.2805063</td><td>12.8131782</td><td>12.8300164</td><td>13.2399214</td></tr>\n",
              "\t<tr><th scope=row>obciazenie</th><td>0.000000</td><td> 7.5716456</td><td> 7.1043174</td><td> 7.1211557</td><td> 7.5310606</td></tr>\n",
              "\t<tr><th scope=row>wariancja</th><td>0.000000</td><td> 0.3595892</td><td> 0.3969169</td><td> 0.4190974</td><td> 0.3984198</td></tr>\n",
              "\t<tr><th scope=row>MSE</th><td>0.000000</td><td>57.6894059</td><td>50.8682431</td><td>51.1299553</td><td>57.1152936</td></tr>\n",
              "</tbody>\n",
              "</table>\n"
            ],
            "text/markdown": "\nA data.frame: 4 × 5\n\n| <!--/--> | populacja &lt;dbl&gt; | naive &lt;dbl&gt; | kalibracja &lt;dbl&gt; | kalibracja2 &lt;dbl&gt; | ps &lt;dbl&gt; |\n|---|---|---|---|---|---|\n| srednia | 5.708861 | 13.2805063 | 12.8131782 | 12.8300164 | 13.2399214 |\n| obciazenie | 0.000000 |  7.5716456 |  7.1043174 |  7.1211557 |  7.5310606 |\n| wariancja | 0.000000 |  0.3595892 |  0.3969169 |  0.4190974 |  0.3984198 |\n| MSE | 0.000000 | 57.6894059 | 50.8682431 | 51.1299553 | 57.1152936 |\n\n",
            "text/latex": "A data.frame: 4 × 5\n\\begin{tabular}{r|lllll}\n  & populacja & naive & kalibracja & kalibracja2 & ps\\\\\n  & <dbl> & <dbl> & <dbl> & <dbl> & <dbl>\\\\\n\\hline\n\tsrednia & 5.708861 & 13.2805063 & 12.8131782 & 12.8300164 & 13.2399214\\\\\n\tobciazenie & 0.000000 &  7.5716456 &  7.1043174 &  7.1211557 &  7.5310606\\\\\n\twariancja & 0.000000 &  0.3595892 &  0.3969169 &  0.4190974 &  0.3984198\\\\\n\tMSE & 0.000000 & 57.6894059 & 50.8682431 & 51.1299553 & 57.1152936\\\\\n\\end{tabular}\n",
            "text/plain": [
              "           populacja naive      kalibracja kalibracja2 ps        \n",
              "srednia    5.708861  13.2805063 12.8131782 12.8300164  13.2399214\n",
              "obciazenie 0.000000   7.5716456  7.1043174  7.1211557   7.5310606\n",
              "wariancja  0.000000   0.3595892  0.3969169  0.4190974   0.3984198\n",
              "MSE        0.000000  57.6894059 50.8682431 51.1299553  57.1152936"
            ]
          },
          "metadata": {}
        }
      ]
    },
    {
      "cell_type": "markdown",
      "source": [
        "# Podsumowanie\n",
        "\n",
        "Dla wszystkich estymatorów uzyskano wysokie obciążęnia. To oznacza, że odbiegają one istotnie od wartości tych wskaźników dla całej populacji. Dla metody naiwnej oraz post-stratyfikacji obciążenia są zbliżone. Nieco inaczej wypadają estymatory kalibracyjne. Oszacowane liczby nieobecności mocno odbiegają od wartości oryginalnych.\n",
        "\n",
        "Wyniki najbardziej zróżnicowane, czyli te o największej wariancji uzyskane zostały w metodzie kalibracji. W przypadku średnich prezentowały się one podobnie wśród wszystkich metod.\n",
        "\n",
        "Największy błąd średniokwadratowy wskazujący na duże różnice między wartością oszacowaną, a oryginalną wykazał estymator naiwny. Post-stratyfikacja posiada błąd na podobnym poziomie. Nieco lepiej wypadł estymator kalibracyjny, który jednak posiada znaczący błąd MSE.\n",
        "\n",
        "Różnice pomiędzy wartościami dla estymatorów, a dla całej populacji są spowodowane przyjęciem wagi przy losowaniu próby nielosowej. Uczniowie, którzy mieli większą liczbę nieobecności uzyskali większą wagę w losowaniu, co przełożyło się na widoczne powyżej różnice."
      ],
      "metadata": {
        "id": "x-r8TH_p2sYo"
      }
    }
  ]
}